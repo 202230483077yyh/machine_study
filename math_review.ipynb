{
 "cells": [
  {
   "cell_type": "code",
   "execution_count": 2,
   "metadata": {},
   "outputs": [
    {
     "name": "stdout",
     "output_type": "stream",
     "text": [
      "1\n",
      "(3,)\n",
      "2\n",
      "(2, 3)\n"
     ]
    }
   ],
   "source": [
    "import numpy as np\n",
    "\n",
    "x=np.array([1,2,3])\n",
    "print(x.ndim)\n",
    "print(x.shape)\n",
    "\n",
    "y=np.array([[1,2,3],[4,5,6]])\n",
    "print(y.ndim)\n",
    "print(y.shape)\n"
   ]
  },
  {
   "cell_type": "markdown",
   "metadata": {},
   "source": [
    "ndim用于输出维度\n",
    "shape用于输出形状，但是对于1维会输出（列数，）"
   ]
  },
  {
   "cell_type": "markdown",
   "metadata": {},
   "source": [
    "矩阵元素的运算\n",
    "1.+ *，都是对应位置的元素相加相乘\n",
    "2.广播(地位元素扩展复制)\n",
    "3.向量内积和矩阵乘积(dot)\n",
    "4.注意矩阵形状检查"
   ]
  },
  {
   "cell_type": "code",
   "execution_count": 3,
   "metadata": {},
   "outputs": [
    {
     "name": "stdout",
     "output_type": "stream",
     "text": [
      "[[ 6  9 12]\n",
      " [ 8 12  9]]\n",
      "[[ 5 14 27]\n",
      " [16 35 18]]\n"
     ]
    }
   ],
   "source": [
    "Z=np.array([[5,7,9],[4,7,3]])\n",
    "W1=Z+y\n",
    "W2=Z*y\n",
    "print(W1)\n",
    "print(W2)\n",
    "\n",
    "A=Z*10\n",
    "print(A)\n",
    "b = np.array([10, 20,30])\n",
    "B=b*Z\n",
    "print(B)"
   ]
  },
  {
   "cell_type": "code",
   "execution_count": 4,
   "metadata": {},
   "outputs": [
    {
     "name": "stdout",
     "output_type": "stream",
     "text": [
      "20\n",
      "[[22 22 33]\n",
      " [49 52 78]]\n"
     ]
    }
   ],
   "source": [
    "a=np.array([1,2,3])\n",
    "b=np.array([2,3,4])\n",
    "c=np.dot(a,b)\n",
    "print(c)\n",
    "\n",
    "a=np.array([[1,2,3],[4,5,6]])\n",
    "b=np.array([[2,3,4],[1,2,4],[6,5,7]])\n",
    "c=np.dot(a,b)\n",
    "print(c)\n",
    "\n"
   ]
  },
  {
   "cell_type": "markdown",
   "metadata": {},
   "source": []
  }
 ],
 "metadata": {
  "kernelspec": {
   "display_name": "mstudy",
   "language": "python",
   "name": "python3"
  },
  "language_info": {
   "codemirror_mode": {
    "name": "ipython",
    "version": 3
   },
   "file_extension": ".py",
   "mimetype": "text/x-python",
   "name": "python",
   "nbconvert_exporter": "python",
   "pygments_lexer": "ipython3",
   "version": "3.11.2"
  }
 },
 "nbformat": 4,
 "nbformat_minor": 2
}
